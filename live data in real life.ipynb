{
 "cells": [
  {
   "cell_type": "code",
   "execution_count": 14,
   "metadata": {},
   "outputs": [
    {
     "data": {
      "text/plain": [
       "<Figure size 432x288 with 0 Axes>"
      ]
     },
     "metadata": {},
     "output_type": "display_data"
    }
   ],
   "source": [
    "import matplotlib.pyplot as plt\n",
    "%matplotlib inline\n",
    "import pandas as pd\n",
    "from itertools import count\n",
    "import random\n",
    "from matplotlib.animation import FuncAnimation\n",
    "\n",
    "plt.style.use('fivethirtyeight')\n",
    "def animate(i):\n",
    "    \n",
    "    data = pd.read_csv('data1.csv')\n",
    "    Age = data['Age']\n",
    "    Python = data['Python']\n",
    "    JavaScript = data['JavaScript']\n",
    "    plt.cla()\n",
    "    plt.plot(Age, Python, label = Python)\n",
    "    plt.plot(Age, JavaScript, label = JavaScript)\n",
    "    plt.legend()\n",
    "        \n",
    "#x_vals = []\n",
    "#y_vals = []\n",
    "#index = count()\n",
    "\n",
    "#def animate(i):\n",
    " #   x_vals.append(next(index))\n",
    "  #  y_vals.append(random.randint(0,5))\n",
    "   # plt.cla()\n",
    "    #plt.plot(x_vals, y_vals)\n",
    "\n",
    "ani = FuncAnimation(plt.gcf(), animate, interval = 1000)\n",
    "plt.show()"
   ]
  },
  {
   "cell_type": "code",
   "execution_count": null,
   "metadata": {},
   "outputs": [],
   "source": []
  }
 ],
 "metadata": {
  "kernelspec": {
   "display_name": "Python",
   "language": "python",
   "name": "conda-env-python-py"
  },
  "language_info": {
   "codemirror_mode": {
    "name": "ipython",
    "version": 3
   },
   "file_extension": ".py",
   "mimetype": "text/x-python",
   "name": "python",
   "nbconvert_exporter": "python",
   "pygments_lexer": "ipython3",
   "version": "3.6.10"
  }
 },
 "nbformat": 4,
 "nbformat_minor": 4
}
